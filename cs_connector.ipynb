{
 "cells": [
  {
   "cell_type": "markdown",
   "metadata": {},
   "source": [
    "# MongoDb connection test"
   ]
  },
  {
   "cell_type": "code",
   "execution_count": 18,
   "metadata": {
    "collapsed": true
   },
   "outputs": [],
   "source": [
    "from pymongo import MongoClient\n",
    "import pprint"
   ]
  },
  {
   "cell_type": "code",
   "execution_count": 19,
   "metadata": {
    "collapsed": true
   },
   "outputs": [],
   "source": [
    "my_client = MongoClient()"
   ]
  },
  {
   "cell_type": "code",
   "execution_count": 20,
   "metadata": {
    "collapsed": true
   },
   "outputs": [],
   "source": [
    "db= my_client.test"
   ]
  },
  {
   "cell_type": "code",
   "execution_count": 21,
   "metadata": {
    "collapsed": true
   },
   "outputs": [],
   "source": [
    "restaurants= db.restaurants"
   ]
  },
  {
   "cell_type": "code",
   "execution_count": 23,
   "metadata": {},
   "outputs": [
    {
     "name": "stdout",
     "output_type": "stream",
     "text": [
      "total record for the collection:25359\n"
     ]
    }
   ],
   "source": [
    "print('total record for the collection:'+ str(restaurants.count()))"
   ]
  },
  {
   "cell_type": "code",
   "execution_count": 24,
   "metadata": {},
   "outputs": [
    {
     "name": "stdout",
     "output_type": "stream",
     "text": [
      "{'_id': ObjectId('5a705f566d0dc0e6fa9b53a6'),\n 'address': {'building': '1007',\n             'coord': [-73.856077, 40.848447],\n             'street': 'Morris Park Ave',\n             'zipcode': '10462'},\n 'borough': 'Bronx',\n 'cuisine': 'Bakery',\n 'grades': [{'date': datetime.datetime(2014, 3, 3, 0, 0),\n             'grade': 'A',\n             'score': 2},\n            {'date': datetime.datetime(2013, 9, 11, 0, 0),\n             'grade': 'A',\n             'score': 6},\n            {'date': datetime.datetime(2013, 1, 24, 0, 0),\n             'grade': 'A',\n             'score': 10},\n            {'date': datetime.datetime(2011, 11, 23, 0, 0),\n             'grade': 'A',\n             'score': 9},\n            {'date': datetime.datetime(2011, 3, 10, 0, 0),\n             'grade': 'B',\n             'score': 14}],\n 'name': 'Morris Park Bake Shop',\n 'restaurant_id': '30075445'}\n"
     ]
    }
   ],
   "source": [
    "for record in restaurants.find().limit(1):\n",
    "    pprint.pprint(record)"
   ]
  },
  {
   "cell_type": "markdown",
   "metadata": {
    "collapsed": true
   },
   "source": [
    "# mongo to spark connection"
   ]
  },
  {
   "cell_type": "code",
   "execution_count": 25,
   "metadata": {
    "collapsed": true
   },
   "outputs": [],
   "source": [
    "import os\n",
    "import sys"
   ]
  },
  {
   "cell_type": "code",
   "execution_count": 26,
   "metadata": {
    "collapsed": true
   },
   "outputs": [],
   "source": [
    "spark_path = '/home/ubuntu/anaconda3/envs/bigdata/lib/python3.6/site-packages/pyspark'\n",
    "os.environ['SPARK_HOME']=spark_path\n",
    "os.environ['HADOOP_HOME']=spark_path\n",
    "os.environ['PYSPARK_SUBMIT_ARGS'] = '--packages org.mongodb.spark:mongo-spark-connector_2.10:2.2.1 pyspark-shell'\n",
    "sys.path.append(spark_path + \"/bin\")\n",
    "sys.path.append(spark_path + \"/python\")\n",
    "sys.path.append(spark_path + \"/python/pyspark/\")\n",
    "sys.path.append(spark_path + \"/python/lib\")\n",
    "sys.path.append(spark_path + \"/python/lib/pyspark.zip\")\n",
    "sys.path.append(spark_path + \"/python/lib/py4j-0.10.4-src.zip\")\n",
    "#$SPARK_HOME/bin/spark-shell --packages org.mongodb.spark:mongo-spark-connector_2.10:2.2.1"
   ]
  },
  {
   "cell_type": "code",
   "execution_count": 27,
   "metadata": {
    "collapsed": true
   },
   "outputs": [],
   "source": []
  },
  {
   "cell_type": "code",
   "execution_count": 27,
   "metadata": {
    "collapsed": true
   },
   "outputs": [],
   "source": [
    "from pyspark.sql import SparkSession"
   ]
  },
  {
   "cell_type": "code",
   "execution_count": 28,
   "metadata": {},
   "outputs": [],
   "source": []
  },
  {
   "cell_type": "code",
   "execution_count": 28,
   "metadata": {
    "collapsed": true
   },
   "outputs": [],
   "source": [
    "my_spark = SparkSession\\\n",
    ".builder.appName('my_app')\\\n",
    ".config('spark.mongodb.input.uri','mongodb://localhost/test.restaurant')\\\n",
    ".config('spark.mongodb.output.uri','mongodb://localhost/test.sparkdb')\\\n",
    ".getOrCreate()\n"
   ]
  },
  {
   "cell_type": "code",
   "execution_count": 29,
   "metadata": {
    "collapsed": true
   },
   "outputs": [],
   "source": [
    "people = my_spark.createDataFrame([(\"Bilbo Baggins\",  50), (\"Gandalf\", 1000)\\\n",
    "                                   , (\"Thorin\", 195), (\"Balin\", 178), (\"Kili\", 77)\\\n",
    "                                   ,(\"Dwalin\", 169), (\"Oin\", 167), (\"Gloin\", 158)\\\n",
    "                                   , (\"Fili\", 82), (\"Bombur\", None)], [\"name\", \"age\"])\n"
   ]
  },
  {
   "cell_type": "code",
   "execution_count": 30,
   "metadata": {},
   "outputs": [
    {
     "data": {
      "text/plain": [
       "10"
      ]
     },
     "execution_count": 30,
     "metadata": {},
     "output_type": "execute_result"
    }
   ],
   "source": [
    "people.count()"
   ]
  },
  {
   "cell_type": "code",
   "execution_count": 31,
   "metadata": {},
   "outputs": [
    {
     "data": {
      "text/plain": [
       "Row(name='Bilbo Baggins', age=50)"
      ]
     },
     "execution_count": 31,
     "metadata": {},
     "output_type": "execute_result"
    }
   ],
   "source": [
    "people.head()"
   ]
  },
  {
   "cell_type": "code",
   "execution_count": 35,
   "metadata": {},
   "outputs": [],
   "source": [
    "people.write.format(\"com.mongodb.spark.sql.DefaultSource\").mode('append').option(\"database\",\"test\").option(\"collection\", \"people\").save()"
   ]
  },
  {
   "cell_type": "code",
   "execution_count": 35,
   "metadata": {},
   "outputs": [],
   "source": [
    "df =my_spark.read.format('com.mongodb.spark.sql.DefaultSource').option('uri','mongodb://localhost/test.people').load()"
   ]
  },
  {
   "cell_type": "code",
   "execution_count": 35,
   "metadata": {},
   "outputs": [],
   "source": [
    "df.count()"
   ]
  },
  {
   "cell_type": "code",
   "execution_count": 28,
   "metadata": {},
   "outputs": [
    {
     "name": "stdout",
     "output_type": "stream",
     "text": [
      "root\n",
      " |-- _id: struct (nullable = true)\n",
      " |    |-- oid: string (nullable = true)\n",
      " |-- age: long (nullable = true)\n",
      " |-- name: string (nullable = true)\n",
      "\n"
     ]
    }
   ],
   "source": [
    "df.printSchema()"
   ]
  },
  {
   "cell_type": "code",
   "execution_count": 29,
   "metadata": {},
   "outputs": [
    {
     "data": {
      "text/plain": [
       "[Row(_id=Row(oid='5a71b15700661807c24a7ac5'), age=50, name='Bilbo Baggins'),\n",
       " Row(_id=Row(oid='5a71b15700661807c24a7ac6'), age=1000, name='Gandalf'),\n",
       " Row(_id=Row(oid='5a71b15700661807c24a7ac7'), age=195, name='Thorin'),\n",
       " Row(_id=Row(oid='5a71b15700661807c24a7ac8'), age=178, name='Balin'),\n",
       " Row(_id=Row(oid='5a71b15700661807c24a7ac9'), age=77, name='Kili'),\n",
       " Row(_id=Row(oid='5a71b15700661807c24a7aca'), age=169, name='Dwalin'),\n",
       " Row(_id=Row(oid='5a71b15700661807c24a7acb'), age=167, name='Oin'),\n",
       " Row(_id=Row(oid='5a71b15700661807c24a7acc'), age=158, name='Gloin'),\n",
       " Row(_id=Row(oid='5a71b15700661807c24a7acd'), age=82, name='Fili'),\n",
       " Row(_id=Row(oid='5a71b15700661807c24a7ace'), age=None, name='Bombur'),\n",
       " Row(_id=Row(oid='5a71b1c700661807c24a7ad0'), age=169, name='Dwalin'),\n",
       " Row(_id=Row(oid='5a71b1c700661807c24a7ad1'), age=167, name='Oin'),\n",
       " Row(_id=Row(oid='5a71b1c700661807c24a7ad2'), age=158, name='Gloin'),\n",
       " Row(_id=Row(oid='5a71b1c700661807c24a7ad3'), age=82, name='Fili'),\n",
       " Row(_id=Row(oid='5a71b1c700661807c24a7ad4'), age=None, name='Bombur'),\n",
       " Row(_id=Row(oid='5a71b1c700661807c24a7ad5'), age=50, name='Bilbo Baggins'),\n",
       " Row(_id=Row(oid='5a71b1c700661807c24a7ad6'), age=1000, name='Gandalf'),\n",
       " Row(_id=Row(oid='5a71b1c700661807c24a7ad7'), age=195, name='Thorin'),\n",
       " Row(_id=Row(oid='5a71b1c700661807c24a7ad8'), age=178, name='Balin'),\n",
       " Row(_id=Row(oid='5a71b1c700661807c24a7ad9'), age=77, name='Kili')]"
      ]
     },
     "execution_count": 29,
     "metadata": {},
     "output_type": "execute_result"
    }
   ],
   "source": [
    "df.collect()"
   ]
  },
  {
   "cell_type": "code",
   "execution_count": 33,
   "metadata": {},
   "outputs": [
    {
     "data": {
      "text/plain": [
       "[Row(_id=Row(oid='5a71b1c700661807c24a7ad3'), age=82, name='Fili'),\n",
       " Row(_id=Row(oid='5a71b15700661807c24a7ac8'), age=178, name='Balin'),\n",
       " Row(_id=Row(oid='5a71b1c700661807c24a7ad6'), age=1000, name='Gandalf'),\n",
       " Row(_id=Row(oid='5a71b15700661807c24a7ac5'), age=50, name='Bilbo Baggins'),\n",
       " Row(_id=Row(oid='5a71b1c700661807c24a7ad7'), age=195, name='Thorin'),\n",
       " Row(_id=Row(oid='5a71b1c700661807c24a7ad1'), age=167, name='Oin'),\n",
       " Row(_id=Row(oid='5a71b15700661807c24a7acc'), age=158, name='Gloin'),\n",
       " Row(_id=Row(oid='5a71b15700661807c24a7ace'), age=None, name='Bombur'),\n",
       " Row(_id=Row(oid='5a71b1c700661807c24a7ad0'), age=169, name='Dwalin'),\n",
       " Row(_id=Row(oid='5a71b15700661807c24a7ac7'), age=195, name='Thorin'),\n",
       " Row(_id=Row(oid='5a71b1c700661807c24a7ad2'), age=158, name='Gloin'),\n",
       " Row(_id=Row(oid='5a71b1c700661807c24a7ad5'), age=50, name='Bilbo Baggins'),\n",
       " Row(_id=Row(oid='5a71b1c700661807c24a7ad4'), age=None, name='Bombur'),\n",
       " Row(_id=Row(oid='5a71b15700661807c24a7acd'), age=82, name='Fili'),\n",
       " Row(_id=Row(oid='5a71b1c700661807c24a7ad9'), age=77, name='Kili'),\n",
       " Row(_id=Row(oid='5a71b1c700661807c24a7ad8'), age=178, name='Balin'),\n",
       " Row(_id=Row(oid='5a71b15700661807c24a7aca'), age=169, name='Dwalin'),\n",
       " Row(_id=Row(oid='5a71b15700661807c24a7ac6'), age=1000, name='Gandalf'),\n",
       " Row(_id=Row(oid='5a71b15700661807c24a7ac9'), age=77, name='Kili'),\n",
       " Row(_id=Row(oid='5a71b15700661807c24a7acb'), age=167, name='Oin')]"
      ]
     },
     "execution_count": 33,
     "metadata": {},
     "output_type": "execute_result"
    }
   ],
   "source": [
    "df.distinct().collect()"
   ]
  },
  {
   "cell_type": "code",
   "execution_count": 34,
   "metadata": {},
   "outputs": [
    {
     "data": {
      "text/plain": [
       "pyspark.sql.dataframe.DataFrame"
      ]
     },
     "execution_count": 34,
     "metadata": {},
     "output_type": "execute_result"
    }
   ],
   "source": [
    "type(df)"
   ]
  },
  {
   "cell_type": "code",
   "execution_count": 37,
   "metadata": {},
   "outputs": [
    {
     "data": {
      "text/plain": [
       "[Row(summary='count', age='18', name='20'),\n",
       " Row(summary='mean', age='230.66666666666666', name=None),\n",
       " Row(summary='stddev', age='284.3800274280879', name=None),\n",
       " Row(summary='min', age='50', name='Balin'),\n",
       " Row(summary='max', age='1000', name='Thorin')]"
      ]
     },
     "execution_count": 37,
     "metadata": {},
     "output_type": "execute_result"
    }
   ],
   "source": [
    "df.describe().collect()"
   ]
  },
  {
   "cell_type": "code",
   "execution_count": null,
   "metadata": {
    "collapsed": true
   },
   "outputs": [],
   "source": [
    "df.plo"
   ]
  }
 ],
 "metadata": {
  "kernelspec": {
   "display_name": "bigdataOrignal",
   "language": "python",
   "name": "bigdataorignal"
  },
  "language_info": {
   "codemirror_mode": {
    "name": "ipython",
    "version": 3
   },
   "file_extension": ".py",
   "mimetype": "text/x-python",
   "name": "python",
   "nbconvert_exporter": "python",
   "pygments_lexer": "ipython3",
   "version": "3.6.4"
  }
 },
 "nbformat": 4,
 "nbformat_minor": 2
}
